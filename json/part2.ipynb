{
 "cells": [
  {
   "cell_type": "code",
   "execution_count": 2,
   "metadata": {},
   "outputs": [],
   "source": [
    "import pandas as pd\n",
    "import json # The module we need to decode JSON"
   ]
  },
  {
   "cell_type": "markdown",
   "metadata": {},
   "source": [
    "#### Decode all JSON Columns"
   ]
  },
  {
   "cell_type": "code",
   "execution_count": 4,
   "metadata": {},
   "outputs": [
    {
     "name": "stdout",
     "output_type": "stream",
     "text": [
      "The data type before using apply function: <class 'str'>\n",
      "\n",
      "The data type after using apply function: <class 'list'>\n"
     ]
    }
   ],
   "source": [
    "df = pd.read_csv(\"tmdb_5000_movies.csv\")\n",
    "\n",
    "sample_type = type(df[\"genres\"][0])\n",
    "print(f\"The data type before using apply function: {sample_type}\\n\")\n",
    "\n",
    "# Column names that contain JSON\n",
    "json_cols = ['genres', 'keywords', 'production_companies', 'spoken_languages', 'production_countries']\n",
    "\n",
    "\n",
    "def clean_json(x):\n",
    "    \"Create apply function for decoding JSON\"\n",
    "    return json.loads(x)\n",
    "\n",
    "# Apply the function column wise to each column of interest\n",
    "for x in json_cols:\n",
    "    df[x] = df[x].apply(clean_json)\n",
    "\n",
    "sample_type2 = type(df[\"genres\"][0])\n",
    "print(f\"The data type after using apply function: {sample_type2}\")"
   ]
  },
  {
   "cell_type": "markdown",
   "metadata": {},
   "source": [
    "#### Access the Python data type like we normally would"
   ]
  },
  {
   "cell_type": "code",
   "execution_count": 5,
   "metadata": {},
   "outputs": [
    {
     "data": {
      "text/plain": [
       "[{'id': 28, 'name': 'Action'},\n",
       " {'id': 12, 'name': 'Adventure'},\n",
       " {'id': 14, 'name': 'Fantasy'},\n",
       " {'id': 878, 'name': 'Science Fiction'}]"
      ]
     },
     "execution_count": 5,
     "metadata": {},
     "output_type": "execute_result"
    }
   ],
   "source": [
    "# Look at first row of genres\n",
    "df[\"genres\"][0]"
   ]
  },
  {
   "cell_type": "code",
   "execution_count": 6,
   "metadata": {},
   "outputs": [
    {
     "data": {
      "text/plain": [
       "{'id': 12, 'name': 'Adventure'}"
      ]
     },
     "execution_count": 6,
     "metadata": {},
     "output_type": "execute_result"
    }
   ],
   "source": [
    "# Look at 2nd element in the list of dictionaries\n",
    "df[\"genres\"][0][1]"
   ]
  },
  {
   "cell_type": "code",
   "execution_count": 7,
   "metadata": {},
   "outputs": [
    {
     "data": {
      "text/plain": [
       "'Adventure'"
      ]
     },
     "execution_count": 7,
     "metadata": {},
     "output_type": "execute_result"
    }
   ],
   "source": [
    "# Access \"name\" key to reveal associated value\n",
    "df[\"genres\"][0][1][\"name\"]"
   ]
  }
 ],
 "metadata": {
  "kernelspec": {
   "display_name": "Python 3",
   "language": "python",
   "name": "python3"
  },
  "language_info": {
   "codemirror_mode": {
    "name": "ipython",
    "version": 3
   },
   "file_extension": ".py",
   "mimetype": "text/x-python",
   "name": "python",
   "nbconvert_exporter": "python",
   "pygments_lexer": "ipython3",
   "version": "3.7.4"
  }
 },
 "nbformat": 4,
 "nbformat_minor": 4
}
